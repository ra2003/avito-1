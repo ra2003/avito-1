{
 "cells": [
  {
   "cell_type": "code",
   "execution_count": 1,
   "metadata": {
    "collapsed": false
   },
   "outputs": [],
   "source": [
    "import pandas as pd\n",
    "df=pd.read_csv('log.csv',delimiter=',',header='infer')"
   ]
  },
  {
   "cell_type": "markdown",
   "metadata": {},
   "source": [
    "# Одно действие на куку"
   ]
  },
  {
   "cell_type": "code",
   "execution_count": 2,
   "metadata": {
    "collapsed": false
   },
   "outputs": [],
   "source": [
    "#кол-во действий на куку\n",
    "df_1 = df.groupby('cookie').size().rename('cnt').reset_index().set_index('cookie')\n",
    "df_2 = df.set_index('cookie').join(df_1).reset_index()"
   ]
  },
  {
   "cell_type": "code",
   "execution_count": 3,
   "metadata": {
    "collapsed": false
   },
   "outputs": [
    {
     "data": {
      "text/html": [
       "<div>\n",
       "<table border=\"1\" class=\"dataframe\">\n",
       "  <thead>\n",
       "    <tr style=\"text-align: right;\">\n",
       "      <th>ClientSideAppName</th>\n",
       "      <th>Android App</th>\n",
       "      <th>iPhone App</th>\n",
       "    </tr>\n",
       "    <tr>\n",
       "      <th>eventtype_group</th>\n",
       "      <th></th>\n",
       "      <th></th>\n",
       "    </tr>\n",
       "  </thead>\n",
       "  <tbody>\n",
       "    <tr>\n",
       "      <th>Request_ItemView</th>\n",
       "      <td>357314.0</td>\n",
       "      <td>5.0</td>\n",
       "    </tr>\n",
       "    <tr>\n",
       "      <th>Request_ItemSearch</th>\n",
       "      <td>1598.0</td>\n",
       "      <td>144.0</td>\n",
       "    </tr>\n",
       "    <tr>\n",
       "      <th>Request_UserLogin</th>\n",
       "      <td>221.0</td>\n",
       "      <td>18.0</td>\n",
       "    </tr>\n",
       "    <tr>\n",
       "      <th>Request</th>\n",
       "      <td>7.0</td>\n",
       "      <td>4.0</td>\n",
       "    </tr>\n",
       "    <tr>\n",
       "      <th>Request_UserRegistration</th>\n",
       "      <td>6.0</td>\n",
       "      <td>NaN</td>\n",
       "    </tr>\n",
       "    <tr>\n",
       "      <th>Request_ItemAdd</th>\n",
       "      <td>3.0</td>\n",
       "      <td>NaN</td>\n",
       "    </tr>\n",
       "    <tr>\n",
       "      <th>Request_UserItemSearch</th>\n",
       "      <td>3.0</td>\n",
       "      <td>19.0</td>\n",
       "    </tr>\n",
       "    <tr>\n",
       "      <th>Request_FavoritesItems</th>\n",
       "      <td>1.0</td>\n",
       "      <td>6.0</td>\n",
       "    </tr>\n",
       "    <tr>\n",
       "      <th>Request_ItemEdit</th>\n",
       "      <td>1.0</td>\n",
       "      <td>NaN</td>\n",
       "    </tr>\n",
       "  </tbody>\n",
       "</table>\n",
       "</div>"
      ],
      "text/plain": [
       "ClientSideAppName         Android App  iPhone App\n",
       "eventtype_group                                  \n",
       "Request_ItemView             357314.0         5.0\n",
       "Request_ItemSearch             1598.0       144.0\n",
       "Request_UserLogin               221.0        18.0\n",
       "Request                           7.0         4.0\n",
       "Request_UserRegistration          6.0         NaN\n",
       "Request_ItemAdd                   3.0         NaN\n",
       "Request_UserItemSearch            3.0        19.0\n",
       "Request_FavoritesItems            1.0         6.0\n",
       "Request_ItemEdit                  1.0         NaN"
      ]
     },
     "execution_count": 3,
     "metadata": {},
     "output_type": "execute_result"
    }
   ],
   "source": [
    "# Действия тех кто совершал действий 1 раз \n",
    "df_2[df_2['cnt'] == 1].groupby(['eventtype_group', 'ClientSideAppName']).size().reset_index().\\\n",
    "pivot('eventtype_group', 'ClientSideAppName', 0).sort_values('Android App', ascending = False)"
   ]
  },
  {
   "cell_type": "code",
   "execution_count": 4,
   "metadata": {
    "collapsed": false
   },
   "outputs": [],
   "source": [
    "# Выкидываю тех, кто только просматривал станицу с Андройда\n",
    "x_bad_1 = df_2[(df_2['cnt'] == 1) & (df_2['eventtype_group'] == 'Request_ItemView') \\\n",
    "     & (df_2['ClientSideAppName'] == 'Android App')]['cookie'].drop_duplicates().values"
   ]
  },
  {
   "cell_type": "code",
   "execution_count": 5,
   "metadata": {
    "collapsed": false
   },
   "outputs": [],
   "source": [
    "sx_bad_1 = set(x_bad_1)"
   ]
  },
  {
   "cell_type": "markdown",
   "metadata": {
    "collapsed": true
   },
   "source": [
    "# Удаляю тех, кто совершал слишком много действий за час/день"
   ]
  },
  {
   "cell_type": "code",
   "execution_count": 6,
   "metadata": {
    "collapsed": false
   },
   "outputs": [],
   "source": [
    "# Добавляю дату время в таблицу\n",
    "df['date'] = df['event_date'].apply(lambda x: x[:10])\n",
    "df['hour'] = df['event_date'].apply(lambda x: x[:13])"
   ]
  },
  {
   "cell_type": "code",
   "execution_count": 7,
   "metadata": {
    "collapsed": false
   },
   "outputs": [],
   "source": [
    "#Выкидываю плохих с предыдущего шага\n",
    "df_3 = df[df['cookie'].apply(lambda x: x not in sx_bad_1)]"
   ]
  },
  {
   "cell_type": "code",
   "execution_count": 8,
   "metadata": {
    "collapsed": false
   },
   "outputs": [],
   "source": [
    "# Считаю кол-во действий на дату, на время, всего\n",
    "c_df = df_3.groupby('cookie').size().rename('cnt').reset_index()\n",
    "c_df1 = c_df.set_index('cookie').join(df_3[['cookie', 'hour']].drop_duplicates().\\\n",
    "                              groupby('cookie').size().rename('cnt_hours').reset_index().set_index('cookie'))\n",
    "c_df2 = c_df1.join(df_3[['cookie', 'date']].drop_duplicates().groupby('cookie').size().\\\n",
    "                   rename('cnt_dates').reset_index().set_index('cookie')).reset_index()"
   ]
  },
  {
   "cell_type": "code",
   "execution_count": 9,
   "metadata": {
    "collapsed": true
   },
   "outputs": [],
   "source": [
    "c_df2['cnt_per_hour'] = c_df2.cnt.values/c_df2.cnt_hours.values\n",
    "c_df2['cnt_per_date'] = c_df2.cnt.values/c_df2.cnt_dates.values"
   ]
  },
  {
   "cell_type": "code",
   "execution_count": 10,
   "metadata": {
    "collapsed": false
   },
   "outputs": [
    {
     "name": "stdout",
     "output_type": "stream",
     "text": [
      "Кол-во часов на сайте\n"
     ]
    },
    {
     "data": {
      "image/png": "[encoded data removed]",
      "text/plain": [
       "<matplotlib.figure.Figure at 0x14a543048>"
      ]
     },
     "metadata": {},
     "output_type": "display_data"
    },
    {
     "name": "stdout",
     "output_type": "stream",
     "text": [
      "Кол-во дней на сайте\n"
     ]
    },
    {
     "data": {
      "image/png": "[encoded data removed]",
      "text/plain": [
       "<matplotlib.figure.Figure at 0x19977ac18>"
      ]
     },
     "metadata": {},
     "output_type": "display_data"
    },
    {
     "name": "stdout",
     "output_type": "stream",
     "text": [
      "Кол-во посещений в час на сайте\n"
     ]
    },
    {
     "data": {
      "image/png": "[encoded data removed]",
      "text/plain": [
       "<matplotlib.figure.Figure at 0x1997e15c0>"
      ]
     },
     "metadata": {},
     "output_type": "display_data"
    },
    {
     "name": "stdout",
     "output_type": "stream",
     "text": [
      "Кол-во посещений в день на сайте\n"
     ]
    },
    {
     "data": {
      "image/png": "[encoded data removed]",
      "text/plain": [
       "<matplotlib.figure.Figure at 0x198570ef0>"
      ]
     },
     "metadata": {},
     "output_type": "display_data"
    }
   ],
   "source": [
    "# Графики по величинам\n",
    "%matplotlib inline\n",
    "import matplotlib.pyplot as plt\n",
    "\n",
    "print ('Кол-во часов на сайте'), c_df2['cnt_hours'].mean()\n",
    "plt.hist(c_df2[c_df2['cnt_hours'] > 1]['cnt_hours'].values)\n",
    "plt.show()\n",
    "\n",
    "print ('Кол-во дней на сайте'), c_df2['cnt_dates'].mean()\n",
    "plt.hist(c_df2['cnt_dates'].values)\n",
    "plt.show()\n",
    "\n",
    "print ('Кол-во посещений в час на сайте'), c_df2['cnt_per_hour'].mean()\n",
    "plt.hist(c_df2[c_df2['cnt_per_hour'] < 200]['cnt_per_hour'].values)\n",
    "plt.show()\n",
    "\n",
    "print ('Кол-во посещений в день на сайте'), c_df2['cnt_per_date'].mean()\n",
    "plt.hist(c_df2[c_df2['cnt_per_date'] < 1000]['cnt_per_date'].values)\n",
    "plt.show()"
   ]
  },
  {
   "cell_type": "code",
   "execution_count": 11,
   "metadata": {
    "collapsed": false
   },
   "outputs": [],
   "source": [
    "#Выкидываю тех у кого кол-во просмотров в день, час и кол-во часов больше среднее*20\n",
    "x_bad_2 = c_df2[(c_df2['cnt_per_hour'] > c_df2['cnt_per_hour'].mean()*20) |\\\n",
    "      (c_df2['cnt_per_date'] > c_df2['cnt_per_date'].mean()*20) |\\\n",
    "      (c_df2['cnt_hours'] > c_df2['cnt_hours'].mean()*20)]['cookie'].drop_duplicates().values"
   ]
  },
  {
   "cell_type": "markdown",
   "metadata": {},
   "source": [
    "# соотношение view/search и search/view"
   ]
  },
  {
   "cell_type": "code",
   "execution_count": 13,
   "metadata": {
    "collapsed": false
   },
   "outputs": [],
   "source": [
    "#Выкидываю плохих с предыдущего шага\n",
    "df_4 = df_3[df_3['cookie'].apply(lambda x: x not in sx_bad_2)]"
   ]
  },
  {
   "cell_type": "code",
   "execution_count": 14,
   "metadata": {
    "collapsed": false
   },
   "outputs": [],
   "source": [
    "#Ко-во просмотров и поисков\n",
    "r_df = df_4[(df_4['eventtype_group'] == 'Request_ItemSearch') | (df_4['eventtype_group'] == 'Request_ItemView')].\\\n",
    "    groupby(['cookie', 'eventtype_group']).size().reset_index().pivot('cookie', 'eventtype_group', 0).reset_index()"
   ]
  },
  {
   "cell_type": "code",
   "execution_count": 15,
   "metadata": {
    "collapsed": false
   },
   "outputs": [],
   "source": [
    "# Создаю новые переменные соотношение просмотров к поискам и наоборот\n",
    "r_df['view_search'] = r_df['Request_ItemView']/r_df['Request_ItemSearch']\n",
    "r_df['search_view'] = r_df['Request_ItemSearch']/r_df['Request_ItemView']"
   ]
  },
  {
   "cell_type": "code",
   "execution_count": 16,
   "metadata": {
    "collapsed": false
   },
   "outputs": [
    {
     "name": "stdout",
     "output_type": "stream",
     "text": [
      "View/Search\n"
     ]
    },
    {
     "data": {
      "image/png": "[encoded data removed]",
      "text/plain": [
       "<matplotlib.figure.Figure at 0x1909e8dd8>"
      ]
     },
     "metadata": {},
     "output_type": "display_data"
    },
    {
     "name": "stdout",
     "output_type": "stream",
     "text": [
      "Search/View\n"
     ]
    },
    {
     "data": {
      "image/png": "[encoded data removed]",
      "text/plain": [
       "<matplotlib.figure.Figure at 0x196665c50>"
      ]
     },
     "metadata": {},
     "output_type": "display_data"
    }
   ],
   "source": [
    "print ('View/Search')\n",
    "plt.hist(r_df[r_df.view_search < 30]['view_search'].dropna().values)\n",
    "plt.show()\n",
    "\n",
    "print ('Search/View')\n",
    "plt.hist(r_df[r_df.search_view < 30]['search_view'].dropna().values)\n",
    "plt.show()"
   ]
  },
  {
   "cell_type": "code",
   "execution_count": 19,
   "metadata": {
    "collapsed": false
   },
   "outputs": [],
   "source": [
    "# Отбираем в плохие те у кого отношения больше 20\n",
    "x_bad_3 = r_df[(r_df.view_search > 10) | (r_df.search_view > 20)]['cookie'].drop_duplicates().values\n",
    "sx_bad_3 = set(x_bad_3)"
   ]
  },
  {
   "cell_type": "markdown",
   "metadata": {},
   "source": [
    "# Много на один ip"
   ]
  },
  {
   "cell_type": "code",
   "execution_count": 20,
   "metadata": {
    "collapsed": true
   },
   "outputs": [],
   "source": [
    "#Выкидываю плохих с предыдущего шага\n",
    "df_5 = df_4[df_4['cookie'].apply(lambda x: x not in sx_bad_3)]"
   ]
  },
  {
   "cell_type": "code",
   "execution_count": 21,
   "metadata": {
    "collapsed": false
   },
   "outputs": [],
   "source": [
    "#сколько куки на 1 ip\n",
    "i_df = df_5[['ip', 'cookie', 'ClientSideAppName']].drop_duplicates().groupby(['ip', 'ClientSideAppName']).size().\\\n",
    "rename('cnt').reset_index().pivot('ip', 'ClientSideAppName', 'cnt')"
   ]
  },
  {
   "cell_type": "code",
   "execution_count": 22,
   "metadata": {
    "collapsed": false
   },
   "outputs": [
    {
     "data": {
      "image/png": "[encoded data removed]",
      "text/plain": [
       "<matplotlib.figure.Figure at 0x199b02a90>"
      ]
     },
     "metadata": {},
     "output_type": "display_data"
    },
    {
     "data": {
      "image/png": "[encoded data removed]",
      "text/plain": [
       "<matplotlib.figure.Figure at 0x11b925748>"
      ]
     },
     "metadata": {},
     "output_type": "display_data"
    }
   ],
   "source": [
    "plt.hist(i_df[i_df['Android App'] <500]['Android App'].dropna())\n",
    "plt.show()\n",
    "\n",
    "plt.hist(i_df['iPhone App'].dropna())\n",
    "plt.show()"
   ]
  },
  {
   "cell_type": "code",
   "execution_count": 23,
   "metadata": {
    "collapsed": false
   },
   "outputs": [],
   "source": [
    "# только андройд и больше 25 куки\n",
    "bad_ip = i_df[(i_df['Android App'] > 25) & (i_df['iPhone App'].isnull())].\\\n",
    "    sort_values('Android App', ascending = False).reset_index()['ip'].values"
   ]
  },
  {
   "cell_type": "code",
   "execution_count": 24,
   "metadata": {
    "collapsed": false
   },
   "outputs": [],
   "source": [
    "s_bad_ip = set(bad_ip)\n",
    "x_bad_4 = df_5[df_5.ip.apply(lambda x: x in s_bad_ip)]['cookie'].drop_duplicates().values"
   ]
  },
  {
   "cell_type": "markdown",
   "metadata": {},
   "source": [
    "# По действиям - получилось выкидывать все просмотры и поиски"
   ]
  },
  {
   "cell_type": "code",
   "execution_count": 26,
   "metadata": {
    "collapsed": false
   },
   "outputs": [],
   "source": [
    "#Выкидываю плохих с предыдущего шага\n",
    "sx_bad_4 = set(x_bad_4)\n",
    "df_6 = df_5[df_5['cookie'].apply(lambda x: x not in sx_bad_4)]"
   ]
  },
  {
   "cell_type": "code",
   "execution_count": 27,
   "metadata": {
    "collapsed": false
   },
   "outputs": [],
   "source": [
    "# какие действия на каждое устройство\n",
    "e_df = df_6[['cookie', 'ClientSideAppName', 'eventype_name']].drop_duplicates().\\\n",
    "    groupby(['cookie', 'ClientSideAppName'])\\\n",
    "    ['eventype_name'].apply(lambda x: ','.join(set(x))).reset_index().\\\n",
    "    groupby(['ClientSideAppName', 'eventype_name']).size().rename('cnt').reset_index().\\\n",
    "    pivot('eventype_name', 'ClientSideAppName', 'cnt').reset_index().fillna(0.5)"
   ]
  },
  {
   "cell_type": "code",
   "execution_count": 28,
   "metadata": {
    "collapsed": false
   },
   "outputs": [],
   "source": [
    "e_df['andr_apple'] = e_df['Android App'].values/e_df['iPhone App'].values"
   ]
  },
  {
   "cell_type": "code",
   "execution_count": 29,
   "metadata": {
    "collapsed": false
   },
   "outputs": [
    {
     "data": {
      "text/html": [
       "<div>\n",
       "<table border=\"1\" class=\"dataframe\">\n",
       "  <thead>\n",
       "    <tr style=\"text-align: right;\">\n",
       "      <th>ClientSideAppName</th>\n",
       "      <th>eventype_name</th>\n",
       "      <th>Android App</th>\n",
       "      <th>iPhone App</th>\n",
       "      <th>andr_apple</th>\n",
       "    </tr>\n",
       "  </thead>\n",
       "  <tbody>\n",
       "    <tr>\n",
       "      <th>3236</th>\n",
       "      <td>Items Search,Item View</td>\n",
       "      <td>7856.0</td>\n",
       "      <td>1965.0</td>\n",
       "      <td>3.997964</td>\n",
       "    </tr>\n",
       "    <tr>\n",
       "      <th>3360</th>\n",
       "      <td>Main Page,Items Search,Item View</td>\n",
       "      <td>3478.0</td>\n",
       "      <td>2239.0</td>\n",
       "      <td>1.553372</td>\n",
       "    </tr>\n",
       "    <tr>\n",
       "      <th>3212</th>\n",
       "      <td>Item View,Items Search,Main Page</td>\n",
       "      <td>3472.0</td>\n",
       "      <td>1622.0</td>\n",
       "      <td>2.140567</td>\n",
       "    </tr>\n",
       "    <tr>\n",
       "      <th>3222</th>\n",
       "      <td>Items Search</td>\n",
       "      <td>1520.0</td>\n",
       "      <td>363.0</td>\n",
       "      <td>4.187328</td>\n",
       "    </tr>\n",
       "    <tr>\n",
       "      <th>3243</th>\n",
       "      <td>Items Search,Item View,Item View Phone</td>\n",
       "      <td>1456.0</td>\n",
       "      <td>62.0</td>\n",
       "      <td>23.483871</td>\n",
       "    </tr>\n",
       "    <tr>\n",
       "      <th>3246</th>\n",
       "      <td>Items Search,Main Page</td>\n",
       "      <td>978.0</td>\n",
       "      <td>505.0</td>\n",
       "      <td>1.936634</td>\n",
       "    </tr>\n",
       "    <tr>\n",
       "      <th>3363</th>\n",
       "      <td>Main Page,Items Search,Item View,Item View Phone</td>\n",
       "      <td>969.0</td>\n",
       "      <td>248.0</td>\n",
       "      <td>3.907258</td>\n",
       "    </tr>\n",
       "    <tr>\n",
       "      <th>2957</th>\n",
       "      <td>Item View</td>\n",
       "      <td>453.0</td>\n",
       "      <td>8.0</td>\n",
       "      <td>56.625000</td>\n",
       "    </tr>\n",
       "    <tr>\n",
       "      <th>3215</th>\n",
       "      <td>Item View,Items Search,Main Page,Item View Phone</td>\n",
       "      <td>359.0</td>\n",
       "      <td>133.0</td>\n",
       "      <td>2.699248</td>\n",
       "    </tr>\n",
       "    <tr>\n",
       "      <th>3938</th>\n",
       "      <td>User Login</td>\n",
       "      <td>306.0</td>\n",
       "      <td>58.0</td>\n",
       "      <td>5.275862</td>\n",
       "    </tr>\n",
       "    <tr>\n",
       "      <th>3958</th>\n",
       "      <td>User Login,Items Search,Item View</td>\n",
       "      <td>305.0</td>\n",
       "      <td>333.0</td>\n",
       "      <td>0.915916</td>\n",
       "    </tr>\n",
       "    <tr>\n",
       "      <th>2451</th>\n",
       "      <td>Favorites Items,Main Page,Items Search,User Lo...</td>\n",
       "      <td>284.0</td>\n",
       "      <td>28.0</td>\n",
       "      <td>10.142857</td>\n",
       "    </tr>\n",
       "    <tr>\n",
       "      <th>3863</th>\n",
       "      <td>User Items,Items Search,Item View</td>\n",
       "      <td>266.0</td>\n",
       "      <td>7.0</td>\n",
       "      <td>38.000000</td>\n",
       "    </tr>\n",
       "    <tr>\n",
       "      <th>3381</th>\n",
       "      <td>Main Page,User Items,Items Search,Item View</td>\n",
       "      <td>210.0</td>\n",
       "      <td>8.0</td>\n",
       "      <td>26.250000</td>\n",
       "    </tr>\n",
       "    <tr>\n",
       "      <th>181</th>\n",
       "      <td>Favorites Item Add,Items Search,Item View</td>\n",
       "      <td>205.0</td>\n",
       "      <td>2.0</td>\n",
       "      <td>102.500000</td>\n",
       "    </tr>\n",
       "    <tr>\n",
       "      <th>3652</th>\n",
       "      <td>Shops Search,Items Search,Item View</td>\n",
       "      <td>197.0</td>\n",
       "      <td>0.5</td>\n",
       "      <td>394.000000</td>\n",
       "    </tr>\n",
       "    <tr>\n",
       "      <th>2478</th>\n",
       "      <td>Favorites Items,Main Page,User Items,Items Sea...</td>\n",
       "      <td>191.0</td>\n",
       "      <td>151.0</td>\n",
       "      <td>1.264901</td>\n",
       "    </tr>\n",
       "    <tr>\n",
       "      <th>3871</th>\n",
       "      <td>User Items,Items Search,Main Page</td>\n",
       "      <td>142.0</td>\n",
       "      <td>5.0</td>\n",
       "      <td>28.400000</td>\n",
       "    </tr>\n",
       "    <tr>\n",
       "      <th>3338</th>\n",
       "      <td>Main Page,Item Edit,User Items,Items Search,It...</td>\n",
       "      <td>128.0</td>\n",
       "      <td>2.0</td>\n",
       "      <td>64.000000</td>\n",
       "    </tr>\n",
       "    <tr>\n",
       "      <th>3819</th>\n",
       "      <td>User Items</td>\n",
       "      <td>118.0</td>\n",
       "      <td>21.0</td>\n",
       "      <td>5.619048</td>\n",
       "    </tr>\n",
       "    <tr>\n",
       "      <th>3219</th>\n",
       "      <td>Item View,User Items,Items Search,Main Page</td>\n",
       "      <td>116.0</td>\n",
       "      <td>2.0</td>\n",
       "      <td>58.000000</td>\n",
       "    </tr>\n",
       "    <tr>\n",
       "      <th>1661</th>\n",
       "      <td>Favorites Items,Favorites Item Remove,Favorite...</td>\n",
       "      <td>105.0</td>\n",
       "      <td>4.0</td>\n",
       "      <td>26.250000</td>\n",
       "    </tr>\n",
       "    <tr>\n",
       "      <th>3349</th>\n",
       "      <td>Main Page,Item Send Message,Items Search,Item ...</td>\n",
       "      <td>101.0</td>\n",
       "      <td>3.0</td>\n",
       "      <td>33.666667</td>\n",
       "    </tr>\n",
       "    <tr>\n",
       "      <th>3286</th>\n",
       "      <td>Main Page,Item Close,User Items,Items Search,I...</td>\n",
       "      <td>91.0</td>\n",
       "      <td>5.0</td>\n",
       "      <td>18.200000</td>\n",
       "    </tr>\n",
       "    <tr>\n",
       "      <th>877</th>\n",
       "      <td>Favorites Items,Favorites Item Add,Main Page,I...</td>\n",
       "      <td>86.0</td>\n",
       "      <td>3.0</td>\n",
       "      <td>28.666667</td>\n",
       "    </tr>\n",
       "    <tr>\n",
       "      <th>226</th>\n",
       "      <td>Favorites Item Add,Main Page,Items Search,Item...</td>\n",
       "      <td>86.0</td>\n",
       "      <td>4.0</td>\n",
       "      <td>21.500000</td>\n",
       "    </tr>\n",
       "    <tr>\n",
       "      <th>879</th>\n",
       "      <td>Favorites Items,Favorites Item Add,Main Page,I...</td>\n",
       "      <td>85.0</td>\n",
       "      <td>38.0</td>\n",
       "      <td>2.236842</td>\n",
       "    </tr>\n",
       "    <tr>\n",
       "      <th>3220</th>\n",
       "      <td>Item View,User Login,Items Search,Main Page</td>\n",
       "      <td>78.0</td>\n",
       "      <td>151.0</td>\n",
       "      <td>0.516556</td>\n",
       "    </tr>\n",
       "    <tr>\n",
       "      <th>3217</th>\n",
       "      <td>Item View,Shops Search,Items Search,Main Page</td>\n",
       "      <td>76.0</td>\n",
       "      <td>0.5</td>\n",
       "      <td>152.000000</td>\n",
       "    </tr>\n",
       "    <tr>\n",
       "      <th>1590</th>\n",
       "      <td>Favorites Items,Favorites Item Remove,Favorite...</td>\n",
       "      <td>75.0</td>\n",
       "      <td>0.5</td>\n",
       "      <td>150.000000</td>\n",
       "    </tr>\n",
       "    <tr>\n",
       "      <th>...</th>\n",
       "      <td>...</td>\n",
       "      <td>...</td>\n",
       "      <td>...</td>\n",
       "      <td>...</td>\n",
       "    </tr>\n",
       "    <tr>\n",
       "      <th>2321</th>\n",
       "      <td>Favorites Items,Item View Phone,User Account S...</td>\n",
       "      <td>0.5</td>\n",
       "      <td>1.0</td>\n",
       "      <td>0.500000</td>\n",
       "    </tr>\n",
       "    <tr>\n",
       "      <th>2322</th>\n",
       "      <td>Favorites Items,Item View Phone,User Account S...</td>\n",
       "      <td>0.5</td>\n",
       "      <td>2.0</td>\n",
       "      <td>0.250000</td>\n",
       "    </tr>\n",
       "    <tr>\n",
       "      <th>2323</th>\n",
       "      <td>Favorites Items,Item View Phone,User Account S...</td>\n",
       "      <td>0.5</td>\n",
       "      <td>1.0</td>\n",
       "      <td>0.500000</td>\n",
       "    </tr>\n",
       "    <tr>\n",
       "      <th>2326</th>\n",
       "      <td>Favorites Items,Item View Phone,User Account S...</td>\n",
       "      <td>0.5</td>\n",
       "      <td>1.0</td>\n",
       "      <td>0.500000</td>\n",
       "    </tr>\n",
       "    <tr>\n",
       "      <th>2327</th>\n",
       "      <td>Favorites Items,Item View Phone,User Account S...</td>\n",
       "      <td>0.5</td>\n",
       "      <td>2.0</td>\n",
       "      <td>0.250000</td>\n",
       "    </tr>\n",
       "    <tr>\n",
       "      <th>2328</th>\n",
       "      <td>Favorites Items,Item View Phone,User Account S...</td>\n",
       "      <td>0.5</td>\n",
       "      <td>2.0</td>\n",
       "      <td>0.250000</td>\n",
       "    </tr>\n",
       "    <tr>\n",
       "      <th>2330</th>\n",
       "      <td>Favorites Items,Item View Phone,User Account S...</td>\n",
       "      <td>0.5</td>\n",
       "      <td>1.0</td>\n",
       "      <td>0.500000</td>\n",
       "    </tr>\n",
       "    <tr>\n",
       "      <th>2333</th>\n",
       "      <td>Favorites Items,Item View Phone,User Account S...</td>\n",
       "      <td>0.5</td>\n",
       "      <td>1.0</td>\n",
       "      <td>0.500000</td>\n",
       "    </tr>\n",
       "    <tr>\n",
       "      <th>2338</th>\n",
       "      <td>Favorites Items,Item View Phone,User Items,Ite...</td>\n",
       "      <td>0.5</td>\n",
       "      <td>1.0</td>\n",
       "      <td>0.500000</td>\n",
       "    </tr>\n",
       "    <tr>\n",
       "      <th>2355</th>\n",
       "      <td>Favorites Items,Main Page,Item Close,Item Edit...</td>\n",
       "      <td>0.5</td>\n",
       "      <td>1.0</td>\n",
       "      <td>0.500000</td>\n",
       "    </tr>\n",
       "    <tr>\n",
       "      <th>2373</th>\n",
       "      <td>Favorites Items,Main Page,Item Close,User Item...</td>\n",
       "      <td>0.5</td>\n",
       "      <td>1.0</td>\n",
       "      <td>0.500000</td>\n",
       "    </tr>\n",
       "    <tr>\n",
       "      <th>2309</th>\n",
       "      <td>Favorites Items,Item View Phone,User Account S...</td>\n",
       "      <td>0.5</td>\n",
       "      <td>1.0</td>\n",
       "      <td>0.500000</td>\n",
       "    </tr>\n",
       "    <tr>\n",
       "      <th>2308</th>\n",
       "      <td>Favorites Items,Item View Phone,User Account S...</td>\n",
       "      <td>0.5</td>\n",
       "      <td>1.0</td>\n",
       "      <td>0.500000</td>\n",
       "    </tr>\n",
       "    <tr>\n",
       "      <th>2307</th>\n",
       "      <td>Favorites Items,Item View Phone,User Account S...</td>\n",
       "      <td>0.5</td>\n",
       "      <td>1.0</td>\n",
       "      <td>0.500000</td>\n",
       "    </tr>\n",
       "    <tr>\n",
       "      <th>2293</th>\n",
       "      <td>Favorites Items,Item View Phone,User Account S...</td>\n",
       "      <td>0.5</td>\n",
       "      <td>1.0</td>\n",
       "      <td>0.500000</td>\n",
       "    </tr>\n",
       "    <tr>\n",
       "      <th>2246</th>\n",
       "      <td>Favorites Items,Item View Phone,Main Page,Item...</td>\n",
       "      <td>0.5</td>\n",
       "      <td>1.0</td>\n",
       "      <td>0.500000</td>\n",
       "    </tr>\n",
       "    <tr>\n",
       "      <th>2247</th>\n",
       "      <td>Favorites Items,Item View Phone,Main Page,Item...</td>\n",
       "      <td>0.5</td>\n",
       "      <td>1.0</td>\n",
       "      <td>0.500000</td>\n",
       "    </tr>\n",
       "    <tr>\n",
       "      <th>2251</th>\n",
       "      <td>Favorites Items,Item View Phone,Main Page,Item...</td>\n",
       "      <td>0.5</td>\n",
       "      <td>1.0</td>\n",
       "      <td>0.500000</td>\n",
       "    </tr>\n",
       "    <tr>\n",
       "      <th>2252</th>\n",
       "      <td>Favorites Items,Item View Phone,Main Page,Item...</td>\n",
       "      <td>0.5</td>\n",
       "      <td>1.0</td>\n",
       "      <td>0.500000</td>\n",
       "    </tr>\n",
       "    <tr>\n",
       "      <th>2260</th>\n",
       "      <td>Favorites Items,Item View Phone,Main Page,Item...</td>\n",
       "      <td>0.5</td>\n",
       "      <td>1.0</td>\n",
       "      <td>0.500000</td>\n",
       "    </tr>\n",
       "    <tr>\n",
       "      <th>2292</th>\n",
       "      <td>Favorites Items,Item View Phone,User Account S...</td>\n",
       "      <td>0.5</td>\n",
       "      <td>1.0</td>\n",
       "      <td>0.500000</td>\n",
       "    </tr>\n",
       "    <tr>\n",
       "      <th>2294</th>\n",
       "      <td>Favorites Items,Item View Phone,User Account S...</td>\n",
       "      <td>0.5</td>\n",
       "      <td>1.0</td>\n",
       "      <td>0.500000</td>\n",
       "    </tr>\n",
       "    <tr>\n",
       "      <th>2306</th>\n",
       "      <td>Favorites Items,Item View Phone,User Account S...</td>\n",
       "      <td>0.5</td>\n",
       "      <td>2.0</td>\n",
       "      <td>0.250000</td>\n",
       "    </tr>\n",
       "    <tr>\n",
       "      <th>2295</th>\n",
       "      <td>Favorites Items,Item View Phone,User Account S...</td>\n",
       "      <td>0.5</td>\n",
       "      <td>1.0</td>\n",
       "      <td>0.500000</td>\n",
       "    </tr>\n",
       "    <tr>\n",
       "      <th>2296</th>\n",
       "      <td>Favorites Items,Item View Phone,User Account S...</td>\n",
       "      <td>0.5</td>\n",
       "      <td>1.0</td>\n",
       "      <td>0.500000</td>\n",
       "    </tr>\n",
       "    <tr>\n",
       "      <th>2297</th>\n",
       "      <td>Favorites Items,Item View Phone,User Account S...</td>\n",
       "      <td>0.5</td>\n",
       "      <td>1.0</td>\n",
       "      <td>0.500000</td>\n",
       "    </tr>\n",
       "    <tr>\n",
       "      <th>2298</th>\n",
       "      <td>Favorites Items,Item View Phone,User Account S...</td>\n",
       "      <td>0.5</td>\n",
       "      <td>1.0</td>\n",
       "      <td>0.500000</td>\n",
       "    </tr>\n",
       "    <tr>\n",
       "      <th>2302</th>\n",
       "      <td>Favorites Items,Item View Phone,User Account S...</td>\n",
       "      <td>0.5</td>\n",
       "      <td>1.0</td>\n",
       "      <td>0.500000</td>\n",
       "    </tr>\n",
       "    <tr>\n",
       "      <th>2303</th>\n",
       "      <td>Favorites Items,Item View Phone,User Account S...</td>\n",
       "      <td>0.5</td>\n",
       "      <td>1.0</td>\n",
       "      <td>0.500000</td>\n",
       "    </tr>\n",
       "    <tr>\n",
       "      <th>4843</th>\n",
       "      <td>User Registration,User Items,User Login,User P...</td>\n",
       "      <td>0.5</td>\n",
       "      <td>1.0</td>\n",
       "      <td>0.500000</td>\n",
       "    </tr>\n",
       "  </tbody>\n",
       "</table>\n",
       "<p>4844 rows × 4 columns</p>\n",
       "</div>"
      ],
      "text/plain": [
       "ClientSideAppName                                      eventype_name  \\\n",
       "3236                                          Items Search,Item View   \n",
       "3360                                Main Page,Items Search,Item View   \n",
       "3212                                Item View,Items Search,Main Page   \n",
       "3222                                                    Items Search   \n",
       "3243                          Items Search,Item View,Item View Phone   \n",
       "3246                                          Items Search,Main Page   \n",
       "3363                Main Page,Items Search,Item View,Item View Phone   \n",
       "2957                                                       Item View   \n",
       "3215                Item View,Items Search,Main Page,Item View Phone   \n",
       "3938                                                      User Login   \n",
       "3958                               User Login,Items Search,Item View   \n",
       "2451               Favorites Items,Main Page,Items Search,User Lo...   \n",
       "3863                               User Items,Items Search,Item View   \n",
       "3381                     Main Page,User Items,Items Search,Item View   \n",
       "181                        Favorites Item Add,Items Search,Item View   \n",
       "3652                             Shops Search,Items Search,Item View   \n",
       "2478               Favorites Items,Main Page,User Items,Items Sea...   \n",
       "3871                               User Items,Items Search,Main Page   \n",
       "3338               Main Page,Item Edit,User Items,Items Search,It...   \n",
       "3819                                                      User Items   \n",
       "3219                     Item View,User Items,Items Search,Main Page   \n",
       "1661               Favorites Items,Favorites Item Remove,Favorite...   \n",
       "3349               Main Page,Item Send Message,Items Search,Item ...   \n",
       "3286               Main Page,Item Close,User Items,Items Search,I...   \n",
       "877                Favorites Items,Favorites Item Add,Main Page,I...   \n",
       "226                Favorites Item Add,Main Page,Items Search,Item...   \n",
       "879                Favorites Items,Favorites Item Add,Main Page,I...   \n",
       "3220                     Item View,User Login,Items Search,Main Page   \n",
       "3217                   Item View,Shops Search,Items Search,Main Page   \n",
       "1590               Favorites Items,Favorites Item Remove,Favorite...   \n",
       "...                                                              ...   \n",
       "2321               Favorites Items,Item View Phone,User Account S...   \n",
       "2322               Favorites Items,Item View Phone,User Account S...   \n",
       "2323               Favorites Items,Item View Phone,User Account S...   \n",
       "2326               Favorites Items,Item View Phone,User Account S...   \n",
       "2327               Favorites Items,Item View Phone,User Account S...   \n",
       "2328               Favorites Items,Item View Phone,User Account S...   \n",
       "2330               Favorites Items,Item View Phone,User Account S...   \n",
       "2333               Favorites Items,Item View Phone,User Account S...   \n",
       "2338               Favorites Items,Item View Phone,User Items,Ite...   \n",
       "2355               Favorites Items,Main Page,Item Close,Item Edit...   \n",
       "2373               Favorites Items,Main Page,Item Close,User Item...   \n",
       "2309               Favorites Items,Item View Phone,User Account S...   \n",
       "2308               Favorites Items,Item View Phone,User Account S...   \n",
       "2307               Favorites Items,Item View Phone,User Account S...   \n",
       "2293               Favorites Items,Item View Phone,User Account S...   \n",
       "2246               Favorites Items,Item View Phone,Main Page,Item...   \n",
       "2247               Favorites Items,Item View Phone,Main Page,Item...   \n",
       "2251               Favorites Items,Item View Phone,Main Page,Item...   \n",
       "2252               Favorites Items,Item View Phone,Main Page,Item...   \n",
       "2260               Favorites Items,Item View Phone,Main Page,Item...   \n",
       "2292               Favorites Items,Item View Phone,User Account S...   \n",
       "2294               Favorites Items,Item View Phone,User Account S...   \n",
       "2306               Favorites Items,Item View Phone,User Account S...   \n",
       "2295               Favorites Items,Item View Phone,User Account S...   \n",
       "2296               Favorites Items,Item View Phone,User Account S...   \n",
       "2297               Favorites Items,Item View Phone,User Account S...   \n",
       "2298               Favorites Items,Item View Phone,User Account S...   \n",
       "2302               Favorites Items,Item View Phone,User Account S...   \n",
       "2303               Favorites Items,Item View Phone,User Account S...   \n",
       "4843               User Registration,User Items,User Login,User P...   \n",
       "\n",
       "ClientSideAppName  Android App  iPhone App  andr_apple  \n",
       "3236                    7856.0      1965.0    3.997964  \n",
       "3360                    3478.0      2239.0    1.553372  \n",
       "3212                    3472.0      1622.0    2.140567  \n",
       "3222                    1520.0       363.0    4.187328  \n",
       "3243                    1456.0        62.0   23.483871  \n",
       "3246                     978.0       505.0    1.936634  \n",
       "3363                     969.0       248.0    3.907258  \n",
       "2957                     453.0         8.0   56.625000  \n",
       "3215                     359.0       133.0    2.699248  \n",
       "3938                     306.0        58.0    5.275862  \n",
       "3958                     305.0       333.0    0.915916  \n",
       "2451                     284.0        28.0   10.142857  \n",
       "3863                     266.0         7.0   38.000000  \n",
       "3381                     210.0         8.0   26.250000  \n",
       "181                      205.0         2.0  102.500000  \n",
       "3652                     197.0         0.5  394.000000  \n",
       "2478                     191.0       151.0    1.264901  \n",
       "3871                     142.0         5.0   28.400000  \n",
       "3338                     128.0         2.0   64.000000  \n",
       "3819                     118.0        21.0    5.619048  \n",
       "3219                     116.0         2.0   58.000000  \n",
       "1661                     105.0         4.0   26.250000  \n",
       "3349                     101.0         3.0   33.666667  \n",
       "3286                      91.0         5.0   18.200000  \n",
       "877                       86.0         3.0   28.666667  \n",
       "226                       86.0         4.0   21.500000  \n",
       "879                       85.0        38.0    2.236842  \n",
       "3220                      78.0       151.0    0.516556  \n",
       "3217                      76.0         0.5  152.000000  \n",
       "1590                      75.0         0.5  150.000000  \n",
       "...                        ...         ...         ...  \n",
       "2321                       0.5         1.0    0.500000  \n",
       "2322                       0.5         2.0    0.250000  \n",
       "2323                       0.5         1.0    0.500000  \n",
       "2326                       0.5         1.0    0.500000  \n",
       "2327                       0.5         2.0    0.250000  \n",
       "2328                       0.5         2.0    0.250000  \n",
       "2330                       0.5         1.0    0.500000  \n",
       "2333                       0.5         1.0    0.500000  \n",
       "2338                       0.5         1.0    0.500000  \n",
       "2355                       0.5         1.0    0.500000  \n",
       "2373                       0.5         1.0    0.500000  \n",
       "2309                       0.5         1.0    0.500000  \n",
       "2308                       0.5         1.0    0.500000  \n",
       "2307                       0.5         1.0    0.500000  \n",
       "2293                       0.5         1.0    0.500000  \n",
       "2246                       0.5         1.0    0.500000  \n",
       "2247                       0.5         1.0    0.500000  \n",
       "2251                       0.5         1.0    0.500000  \n",
       "2252                       0.5         1.0    0.500000  \n",
       "2260                       0.5         1.0    0.500000  \n",
       "2292                       0.5         1.0    0.500000  \n",
       "2294                       0.5         1.0    0.500000  \n",
       "2306                       0.5         2.0    0.250000  \n",
       "2295                       0.5         1.0    0.500000  \n",
       "2296                       0.5         1.0    0.500000  \n",
       "2297                       0.5         1.0    0.500000  \n",
       "2298                       0.5         1.0    0.500000  \n",
       "2302                       0.5         1.0    0.500000  \n",
       "2303                       0.5         1.0    0.500000  \n",
       "4843                       0.5         1.0    0.500000  \n",
       "\n",
       "[4844 rows x 4 columns]"
      ]
     },
     "execution_count": 29,
     "metadata": {},
     "output_type": "execute_result"
    }
   ],
   "source": [
    "e_df.sort_values('Android App', ascending = False)"
   ]
  },
  {
   "cell_type": "code",
   "execution_count": 42,
   "metadata": {
    "collapsed": false
   },
   "outputs": [],
   "source": [
    "# В итоге удаляю все куки с которых были только item_search или item_view \n",
    "e_df1 = df_6.groupby(['cookie', 'ClientSideAppName'])['eventype_name'].apply(lambda x: ','.join(set(x))).reset_index()\n",
    "s_bad_5 = e_df1[((e_df1['eventype_name'] == 'Item View') | (e_df1['eventype_name'] == 'Items Search')) \\\n",
    "                & (e_df1['ClientSideAppName'] == 'Android App')]['cookie'].\\\n",
    "                drop_duplicates().values"
   ]
  },
  {
   "cell_type": "code",
   "execution_count": 32,
   "metadata": {
    "collapsed": true
   },
   "outputs": [],
   "source": [
    "sx_bad_5 = set(s_bad_5)\n",
    "good = set(df_6[df_6['cookie'].apply(lambda x: x not in sx_bad_5)]['cookie'])"
   ]
  },
  {
   "cell_type": "code",
   "execution_count": 43,
   "metadata": {
    "collapsed": false
   },
   "outputs": [],
   "source": [
    "#выгружаю для сабмита\n",
    "res = df[['cookie', 'cookie_id']].drop_duplicates()\n",
    "res['IsHuman']=df['cookie'].apply(lambda x: 1 if x in good else 0)\n",
    "res.drop('cookie',axis=1).drop_duplicates().to_csv('submit2_s2.csv',index=False)"
   ]
  },
  {
   "cell_type": "code",
   "execution_count": 45,
   "metadata": {
    "collapsed": false
   },
   "outputs": [],
   "source": [
    "subm = res.drop('cookie',axis=1).drop_duplicates()"
   ]
  },
  {
   "cell_type": "markdown",
   "metadata": {},
   "source": [
    "# Сверху forest, готовлю фичи"
   ]
  },
  {
   "cell_type": "code",
   "execution_count": 49,
   "metadata": {
    "collapsed": false
   },
   "outputs": [
    {
     "name": "stdout",
     "output_type": "stream",
     "text": [
      "Index(['cookie_id', 'log_id', 'event_date', 'eventtype_id', 'eventtype_group',\n",
      "       'eventype_name', 'is_event_pageview', 'ClientSideAppName', 'cookie',\n",
      "       'user_id', 'category_id', 'ParentCategoryName', 'CategoryName',\n",
      "       'location_id', 'useragent_id', 'useragent', 'ip', 'date', 'hour',\n",
      "       'IsHuman'],\n",
      "      dtype='object')\n"
     ]
    }
   ],
   "source": [
    "df_b=df.set_index('cookie_id').join(subm.set_index('cookie_id')).reset_index()\n",
    "print (df_b.columns)"
   ]
  },
  {
   "cell_type": "code",
   "execution_count": 52,
   "metadata": {
    "collapsed": false
   },
   "outputs": [],
   "source": [
    "#опять дата время\n",
    "df_b['date']=df_b['event_date'].apply(lambda x:x[:10])\n",
    "df_b['hour']=df_b['event_date'].apply(lambda x:x[:13])"
   ]
  },
  {
   "cell_type": "code",
   "execution_count": 54,
   "metadata": {
    "collapsed": false
   },
   "outputs": [
    {
     "name": "stdout",
     "output_type": "stream",
     "text": [
      "eventtype_id\n",
      "eventtype_group\n",
      "eventype_name\n",
      "is_event_pageview\n",
      "ClientSideAppName\n",
      "cookie\n",
      "user_id\n",
      "category_id\n",
      "ParentCategoryName\n",
      "CategoryName\n",
      "location_id\n",
      "useragent_id\n",
      "useragent\n",
      "ip\n",
      "date\n",
      "hour\n"
     ]
    }
   ],
   "source": [
    "# считаю уникальное кол-во значений по каждой фиче на 1 куки_id\n",
    "df_drp=df_b.fillna(-1).groupby('cookie_id')\n",
    "\n",
    "tmp2=df[['cookie_id']].drop_duplicates().set_index('cookie_id')\n",
    "\n",
    "for a in [u'eventtype_id',\n",
    "       u'eventtype_group', u'eventype_name', u'is_event_pageview',\n",
    "       u'ClientSideAppName', u'cookie', u'user_id', u'category_id',\n",
    "       u'ParentCategoryName', u'CategoryName', u'location_id', u'useragent_id',\n",
    "       u'useragent', u'ip','date','hour']:\n",
    "    print (a)\n",
    "    tmp2=tmp2.join(df_drp[a].apply(lambda x:len(set(x))).rename('un_'+a).reset_index().set_index('cookie_id'))\n",
    "    "
   ]
  },
  {
   "cell_type": "code",
   "execution_count": 64,
   "metadata": {
    "collapsed": false
   },
   "outputs": [],
   "source": [
    "#Число действий\n",
    "tmp2 = tmp2.join(df.groupby('cookie_id').size().rename('cnt').reset_index().set_index('cookie_id'))"
   ]
  },
  {
   "cell_type": "code",
   "execution_count": 65,
   "metadata": {
    "collapsed": true
   },
   "outputs": [],
   "source": [
    "# За день/за час\n",
    "by_hour=df.groupby(['cookie_id','hour']).size().reset_index().groupby('cookie_id')\n",
    "by_date=df.groupby(['cookie_id','date']).size().reset_index().groupby('cookie_id')"
   ]
  },
  {
   "cell_type": "code",
   "execution_count": 66,
   "metadata": {
    "collapsed": true
   },
   "outputs": [],
   "source": [
    "# Максимальное среднее кол-во действий за час или день\n",
    "tmp2=tmp2.join(by_hour[0].max().rename('max_by_hour').reset_index().set_index('cookie_id'))\n",
    "tmp2=tmp2.join(by_hour[0].mean().rename('avg_by_hour').reset_index().set_index('cookie_id'))\n",
    "tmp2=tmp2.join(by_date[0].max().rename('max_by_date').reset_index().set_index('cookie_id'))\n",
    "tmp2=tmp2.join(by_date[0].mean().rename('avg_by_date').reset_index().set_index('cookie_id'))"
   ]
  },
  {
   "cell_type": "code",
   "execution_count": 67,
   "metadata": {
    "collapsed": true
   },
   "outputs": [],
   "source": [
    "#переименование для dummy\n",
    "def rename(a,x):\n",
    "    try:\n",
    "        return str(a)+'_'+str(x)\n",
    "    except:\n",
    "        return x"
   ]
  },
  {
   "cell_type": "code",
   "execution_count": 69,
   "metadata": {
    "collapsed": false
   },
   "outputs": [
    {
     "name": "stdout",
     "output_type": "stream",
     "text": [
      "eventtype_id 2017-02-18 22:02:01.802604\n",
      "eventtype_group 2017-02-18 22:02:13.062866\n",
      "eventype_name 2017-02-18 22:02:19.375961\n",
      "is_event_pageview 2017-02-18 22:02:27.597692\n",
      "ClientSideAppName 2017-02-18 22:02:29.180103\n",
      "category_id 2017-02-18 22:02:31.029113\n",
      "ParentCategoryName 2017-02-18 22:03:03.836182\n",
      "CategoryName 2017-02-18 22:03:07.800229\n"
     ]
    }
   ],
   "source": [
    "#категориальные в dummy\n",
    "import datetime\n",
    "tmp=[]\n",
    "\n",
    "for a in [u'eventtype_id',  u'eventtype_group', u'eventype_name', u'is_event_pageview',\n",
    "       u'ClientSideAppName', u'category_id',\n",
    "       u'ParentCategoryName', u'CategoryName']:\n",
    "    print (a, datetime.datetime.now())\n",
    "    tmp3=pd.get_dummies(df[a])\n",
    "    tmp3.columns=[rename(a,b) for b in tmp3.columns]\n",
    "    tmp3=pd.concat([df[['cookie_id']],tmp3], axis=1)\n",
    "    tmp.append(tmp3.groupby('cookie_id').sum())"
   ]
  },
  {
   "cell_type": "code",
   "execution_count": 77,
   "metadata": {
    "collapsed": false
   },
   "outputs": [],
   "source": [
    "tmp3=tmp[0]\n",
    "\n",
    "for a in tmp[1:]:\n",
    "    tmp3=tmp3.join(a)"
   ]
  },
  {
   "cell_type": "code",
   "execution_count": 80,
   "metadata": {
    "collapsed": true
   },
   "outputs": [],
   "source": [
    "#Вытаскиваю версию устройства\n",
    "z=df[['cookie_id','useragent','ClientSideAppName']][df['useragent'].apply(lambda x:'AVITO' in str(x))].drop_duplicates()\n",
    "\n",
    "z['version']=z.useragent.apply(lambda x:(str(x).split('(')[0].replace('AVITO ','').replace(' ','').replace(',','')))\n",
    "\n",
    "z['version2']=z.useragent.\\\n",
    "apply(lambda x:(str(x).split('(')[0].replace('AVITO ','').replace(' ','').replace(',','').split('.')[0]))"
   ]
  },
  {
   "cell_type": "code",
   "execution_count": 82,
   "metadata": {
    "collapsed": false
   },
   "outputs": [],
   "source": [
    "def try_int(x):\n",
    "    try:\n",
    "        return int(x)\n",
    "    except:\n",
    "        return None"
   ]
  },
  {
   "cell_type": "code",
   "execution_count": 85,
   "metadata": {
    "collapsed": true
   },
   "outputs": [],
   "source": [
    "#из версий dummy\n",
    "version=pd.get_dummies(z['version'])\n",
    "version2=pd.get_dummies(z['version'])\n",
    "v=pd.concat([z[['cookie_id']], version, version2],axis=1).groupby('cookie_id').sum()"
   ]
  },
  {
   "cell_type": "code",
   "execution_count": 86,
   "metadata": {
    "collapsed": false
   },
   "outputs": [],
   "source": [
    "#min и max версия для куки\n",
    "max_v=z.groupby('cookie_id')['version2'].\\\n",
    "apply(lambda x:max([try_int(a) for a in x])).rename('min_verstion').reset_index().set_index('cookie_id')\n",
    "\n",
    "min_v=z.groupby('cookie_id')['version2'].\\\n",
    "apply(lambda x:min([try_int(a) for a in x])).rename('max_verstion').reset_index().set_index('cookie_id')\n",
    "\n",
    "tmp3=tmp3.join(v).join(max_v).join(min_v)"
   ]
  },
  {
   "cell_type": "code",
   "execution_count": 89,
   "metadata": {
    "collapsed": false
   },
   "outputs": [],
   "source": [
    "final_ds=tmp2.reset_index().set_index('cookie_id').join(tmp3)\n",
    "final_ds=final_ds.join(df_b[['cookie_id','IsHuman']].drop_duplicates().set_index('cookie_id')).reset_index()\n",
    "final_ds.to_pickle('finalds')"
   ]
  },
  {
   "cell_type": "code",
   "execution_count": 102,
   "metadata": {
    "collapsed": false
   },
   "outputs": [],
   "source": [
    "#разделяю выборку и сохраняю если потом буду использовать\n",
    "X=final_ds.drop(['cookie_id','IsHuman'],axis=1).values\n",
    "y=final_ds.IsHuman.values\n",
    "ids=final_ds.cookie_id.values\n",
    "\n",
    "import _pickle as pickle\n",
    "f=open('q2.pk1','wb')\n",
    "pickle.dump([X,y,ids],f,2)\n",
    "f.close()"
   ]
  },
  {
   "cell_type": "code",
   "execution_count": 104,
   "metadata": {
    "collapsed": false
   },
   "outputs": [],
   "source": [
    "#для forest\n",
    "# 1. Кросс-валидация\n",
    "from sklearn.cross_validation import KFold\n",
    "cv = KFold(len(y),n_folds=5, shuffle=True, random_state=0)"
   ]
  },
  {
   "cell_type": "code",
   "execution_count": 96,
   "metadata": {
    "collapsed": true
   },
   "outputs": [],
   "source": [
    "#параметры дерева\n",
    "import numpy as np\n",
    "pred=np.zeros(len(y))\n",
    "\n",
    "from sklearn.ensemble import ExtraTreesClassifier\n",
    "et=ExtraTreesClassifier(n_estimators=300, n_jobs=-1,min_samples_split=100)"
   ]
  },
  {
   "cell_type": "code",
   "execution_count": 110,
   "metadata": {
    "collapsed": false
   },
   "outputs": [
    {
     "name": "stdout",
     "output_type": "stream",
     "text": [
      "2017-02-19 12:04:56.733485\n",
      "2017-02-19 12:11:03.742511\n",
      "2017-02-19 12:16:41.745862\n",
      "2017-02-19 12:56:29.102560\n",
      "2017-02-19 13:03:12.884226\n"
     ]
    }
   ],
   "source": [
    "#На 4 частях обучаемся 1 предсказываем\n",
    "import datetime\n",
    "# я повторяю эту итерацию 2 раза с разным разбиением\n",
    "#cv = KFold(len(y),n_folds=6, shuffle=True, random_state=3) \n",
    "X[np.isnan(X)]=0\n",
    "for a,b in cv:\n",
    "    print (datetime.datetime.now())\n",
    "    et.fit(X[a],y[a])\n",
    "    pred[b]=et.predict_proba(X[b])[:,1]"
   ]
  },
  {
   "cell_type": "code",
   "execution_count": 111,
   "metadata": {
    "collapsed": false
   },
   "outputs": [
    {
     "data": {
      "text/plain": [
       "0.99995768625654879"
      ]
     },
     "execution_count": 111,
     "metadata": {},
     "output_type": "execute_result"
    }
   ],
   "source": [
    "from sklearn.metrics import roc_auc_score\n",
    "roc_auc_score(y, pred)"
   ]
  },
  {
   "cell_type": "code",
   "execution_count": 117,
   "metadata": {
    "collapsed": true
   },
   "outputs": [],
   "source": [
    "df=pd.DataFrame(np.concatenate([y.reshape(438657,1), pred.reshape(438657,1)],axis=1),columns=['y','pred'])\n",
    "df['cookie_id']=ids"
   ]
  },
  {
   "cell_type": "code",
   "execution_count": 130,
   "metadata": {
    "collapsed": false
   },
   "outputs": [
    {
     "data": {
      "image/png": "[encoded data removed]",
      "text/plain": [
       "<matplotlib.figure.Figure at 0x1e405ce10>"
      ]
     },
     "metadata": {},
     "output_type": "display_data"
    },
    {
     "data": {
      "image/png": "[encoded data removed]",
      "text/plain": [
       "<matplotlib.figure.Figure at 0x1e3cafa20>"
      ]
     },
     "metadata": {},
     "output_type": "display_data"
    }
   ],
   "source": [
    "#Распределение верояьностей для 0 и 1\n",
    "%matplotlib inline\n",
    "import matplotlib.pyplot as plt\n",
    "\n",
    "plt.hist(df[(df['y']==1) & (df['pred']<0.95)]['pred'].values, bins=100)\n",
    "plt.show()\n",
    "\n",
    "plt.hist(df[(df['y']==0) & (df['pred']>0.05)]['pred'].values, bins=100)\n",
    "plt.show()"
   ]
  },
  {
   "cell_type": "code",
   "execution_count": 131,
   "metadata": {
    "collapsed": false
   },
   "outputs": [],
   "source": [
    "# Если вероятность меньше 0,8 а у нас промечен как человек - убираем, если у нас промечен как робот, \n",
    "#а вероятность больше 0.2\n",
    "df['IsHuman']=df[['y','pred']].apply(lambda x: 0 if (x[0]==0 and x[1]<0.2) or (x[0]==1 and x[1]<0.8) else 1,axis=1)\n",
    "df[['cookie_id','IsHuman']].to_csv('test_v3.csv',index=False)"
   ]
  },
  {
   "cell_type": "code",
   "execution_count": null,
   "metadata": {
    "collapsed": true
   },
   "outputs": [],
   "source": []
  }
 ],
 "metadata": {
  "anaconda-cloud": {},
  "kernelspec": {
   "display_name": "Python 3",
   "language": "python",
   "name": "python3"
  },
  "language_info": {
   "codemirror_mode": {
    "name": "ipython",
    "version": 3
   },
   "file_extension": ".py",
   "mimetype": "text/x-python",
   "name": "python",
   "nbconvert_exporter": "python",
   "pygments_lexer": "ipython3",
   "version": "3.6.0"
  }
 },
 "nbformat": 4,
 "nbformat_minor": 0
}
