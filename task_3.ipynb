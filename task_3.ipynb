{
 "cells": [
  {
   "cell_type": "code",
   "execution_count": 1,
   "metadata": {
    "collapsed": false
   },
   "outputs": [],
   "source": [
    "%matplotlib inline\n",
    "import pandas as pd\n",
    "import numpy as np\n",
    "\n",
    "\n",
    "df_train=pd.read_csv('train.csv',delimiter=';')\n",
    "df_test=pd.read_csv('test.csv',delimiter=';')"
   ]
  },
  {
   "cell_type": "code",
   "execution_count": 2,
   "metadata": {
    "collapsed": false
   },
   "outputs": [
    {
     "name": "stdout",
     "output_type": "stream",
     "text": [
      "423772 418991 842763\n"
     ]
    }
   ],
   "source": [
    "#собираем вместе\n",
    "df_train['train']=1\n",
    "df_test ['train']=0\n",
    "df_test['item_views']=None\n",
    "df_all=pd.concat([df_train,df_test])\n",
    "\n",
    "\n",
    "print (len(df_train), len(df_test), len(df_all))\n",
    "df_all = df_all.sample(n = 100)"
   ]
  },
  {
   "cell_type": "code",
   "execution_count": 3,
   "metadata": {
    "collapsed": false
   },
   "outputs": [],
   "source": [
    "del df_test, df_train"
   ]
  },
  {
   "cell_type": "code",
   "execution_count": 4,
   "metadata": {
    "collapsed": false
   },
   "outputs": [],
   "source": [
    "#час и день начала\n",
    "df_all['startdate']=df_all['start_time'].apply(lambda x:int(x[8:10]))\n",
    "df_all['starthourt']=df_all['start_time'].apply(lambda x:int(x[11:13]))"
   ]
  },
  {
   "cell_type": "code",
   "execution_count": 5,
   "metadata": {
    "collapsed": true
   },
   "outputs": [],
   "source": [
    "#вытаскиваем фичи из текста\n",
    "from sklearn.feature_extraction.text import TfidfVectorizer\n",
    "\n",
    "tfidf=TfidfVectorizer(max_features=10000, ngram_range=(1,2))"
   ]
  },
  {
   "cell_type": "code",
   "execution_count": 6,
   "metadata": {
    "collapsed": false
   },
   "outputs": [],
   "source": [
    "#нормализация\n",
    "def nomalize2(x):\n",
    "    from pymorphy2 import MorphAnalyzer\n",
    "    import re\n",
    "    p=MorphAnalyzer()\n",
    "\n",
    "    def nomalize1(x):\n",
    "        t=p.parse(x)\n",
    "        if len(x)>0:\n",
    "            return t[0].normal_form\n",
    "        return x\n",
    "    \n",
    "    x2=re.sub('\\s+',' ',re.sub(u'[^а-яёa-z0-9\\.]',' ',str(x).lower())).strip()\n",
    "    \n",
    "    return ' '.join([nomalize1(a) for a in x2.split(' ')])"
   ]
  },
  {
   "cell_type": "code",
   "execution_count": 7,
   "metadata": {
    "collapsed": false
   },
   "outputs": [],
   "source": [
    "#длина текста и количество слов\n",
    "df_all['title_length']=df_all['title'].apply(lambda x:len(str(x)))\n",
    "df_all['title_word_count']=df_all['title'].apply(lambda x:len(str(x).split(' ')))"
   ]
  },
  {
   "cell_type": "code",
   "execution_count": 8,
   "metadata": {
    "collapsed": false
   },
   "outputs": [],
   "source": [
    "# нормализую тайтлы\n",
    "df_all['title_norm']=df_all.title.apply(lambda x: nomalize2(x))"
   ]
  },
  {
   "cell_type": "code",
   "execution_count": 9,
   "metadata": {
    "collapsed": false
   },
   "outputs": [],
   "source": [
    "#tf-idf\n",
    "import datetime\n",
    "\n",
    "dstart=datetime.datetime.now()\n",
    "text_features=tfidf.fit_transform(df_all['title_norm'].values)\n",
    "dend=datetime.datetime.now()"
   ]
  },
  {
   "cell_type": "code",
   "execution_count": 10,
   "metadata": {
    "collapsed": false
   },
   "outputs": [],
   "source": [
    "#доьбавляем часовой пояс\n",
    "region=pd.read_csv('region.csv')"
   ]
  },
  {
   "cell_type": "code",
   "execution_count": 11,
   "metadata": {
    "collapsed": false
   },
   "outputs": [],
   "source": [
    "df_all=df_all.set_index('region').join(region.set_index('region')).reset_index()"
   ]
  },
  {
   "cell_type": "code",
   "execution_count": 12,
   "metadata": {
    "collapsed": false
   },
   "outputs": [],
   "source": [
    "#время по часовому поясу\n",
    "df_all['real_time']=df_all['starthourt']+df_all['timezone']-3"
   ]
  },
  {
   "cell_type": "code",
   "execution_count": 13,
   "metadata": {
    "collapsed": false
   },
   "outputs": [
    {
     "name": "stdout",
     "output_type": "stream",
     "text": [
      "category 2017-02-19 21:23:15.031945\n",
      "owner_type 2017-02-19 21:23:15.033239\n",
      "region 2017-02-19 21:23:15.034572\n",
      "subcategory 2017-02-19 21:23:15.036475\n",
      "param1 2017-02-19 21:23:15.038979\n",
      "param2 2017-02-19 21:23:15.042115\n",
      "param3 2017-02-19 21:23:15.044157\n"
     ]
    }
   ],
   "source": [
    "#категориальные переменные\n",
    "import datetime\n",
    "\n",
    "tmp2=[]\n",
    "\n",
    "#'param1','param2','param3'\n",
    "\n",
    "for a in ['category','owner_type','region','subcategory','param1','param2','param3']:\n",
    "    tmp=pd.get_dummies(df_all[a])\n",
    "    tmp.columns=map(lambda x:a+'_'+x, tmp.columns)\n",
    "    tmp2.append(tmp)\n",
    "    print (a, datetime.datetime.now())"
   ]
  },
  {
   "cell_type": "code",
   "execution_count": 14,
   "metadata": {
    "collapsed": false
   },
   "outputs": [],
   "source": [
    "#все вместе\n",
    "df_all_2=pd.concat(tmp2+[df_all[['price','train','item_id','item_views',\\\n",
    "                                          'startdate','starthourt',\\\n",
    "                                         'real_time','title_length','title_word_count']]],axis=1)"
   ]
  },
  {
   "cell_type": "code",
   "execution_count": 15,
   "metadata": {
    "collapsed": true
   },
   "outputs": [],
   "source": [
    "del tmp2"
   ]
  },
  {
   "cell_type": "code",
   "execution_count": 16,
   "metadata": {
    "collapsed": false
   },
   "outputs": [],
   "source": [
    "#собираем это все в разряженную матрицу\n",
    "import numpy as np\n",
    "from scipy.sparse import hstack, csr_matrix\n",
    "X=hstack([csr_matrix(df_all_2.drop(['train','item_id','item_views'],axis=1).values),\\\n",
    "          text_features])\n",
    "is_train=df_all_2['train'].values\n",
    "y=df_all_2[df_all_2['train']==1]['item_views'].values.astype(np.float)"
   ]
  },
  {
   "cell_type": "code",
   "execution_count": 17,
   "metadata": {
    "collapsed": false
   },
   "outputs": [
    {
     "name": "stdout",
     "output_type": "stream",
     "text": [
      "Index(['region', 'category', 'id', 'item_id', 'item_views', 'owner_type',\n",
      "       'param1', 'param2', 'param3', 'price', 'start_time', 'subcategory',\n",
      "       'title', 'train', 'startdate', 'starthourt', 'title_length',\n",
      "       'title_word_count', 'title_norm', 'timezone', 'real_time'],\n",
      "      dtype='object')\n"
     ]
    }
   ],
   "source": [
    "print (df_all.columns)\n",
    "id_name= df_all.columns[2]\n",
    "ids=df_all[id_name]"
   ]
  },
  {
   "cell_type": "raw",
   "metadata": {},
   "source": [
    "#сохраняю \n",
    "import cPickle as pickle\n",
    "f=open('/mnt/data/a_pickle.pk1','wb')\n",
    "pickle.dump([X,is_train,y,ids],f,2)\n",
    "f.close()"
   ]
  },
  {
   "cell_type": "markdown",
   "metadata": {
    "collapsed": false
   },
   "source": [
    "import cPickle as pickle\n",
    "f=open('/mnt/data/a_pickle.pk1','rb')\n",
    "X,is_train,y,ids = pickle.load(f)\n",
    "f.close()"
   ]
  },
  {
   "cell_type": "code",
   "execution_count": 18,
   "metadata": {
    "collapsed": false
   },
   "outputs": [],
   "source": [
    "# в разряженную матрицу\n",
    "X=csr_matrix(X)\n",
    "X_train=X[np.where(is_train==1)]\n",
    "X_test=X[np.where(is_train==0)]"
   ]
  },
  {
   "cell_type": "code",
   "execution_count": 20,
   "metadata": {
    "collapsed": false
   },
   "outputs": [],
   "source": [
    "# обучаю бустинг для предсказания цены\n",
    "import xgboost as xgb\n",
    "dtrain = xgb.DMatrix(X_train, label = np.log1p(y))\n",
    "dtest = xgb.DMatrix(X_test)\n",
    "num_round = 6422\n",
    "\n",
    "param={'colsample_bytree': 0.5,\n",
    " 'eta': 0.01,\n",
    " 'max_depth': 18,\n",
    " 'objective': 'reg:linear',\n",
    " 'silent': 0,\n",
    " 'subsample': 1}\n",
    "\n",
    "bst_final = xgb.train(param, dtrain, num_round)"
   ]
  },
  {
   "cell_type": "code",
   "execution_count": 21,
   "metadata": {
    "collapsed": true
   },
   "outputs": [],
   "source": [
    "# предсказываю цены для теста\n",
    "pred=bst_final.predict(dtest)"
   ]
  },
  {
   "cell_type": "code",
   "execution_count": 22,
   "metadata": {
    "collapsed": true
   },
   "outputs": [],
   "source": [
    "res1=np.expm1(pred)"
   ]
  },
  {
   "cell_type": "code",
   "execution_count": 23,
   "metadata": {
    "collapsed": false
   },
   "outputs": [],
   "source": [
    "tmp2=df_all[df_all['train']==0][['id']]"
   ]
  },
  {
   "cell_type": "code",
   "execution_count": 24,
   "metadata": {
    "collapsed": false
   },
   "outputs": [],
   "source": [
    "tmp2['item_views']=res1\n",
    "tmp2.to_csv('second_subm_3_fixed.csv',index=False)"
   ]
  }
 ],
 "metadata": {
  "kernelspec": {
   "display_name": "Python 3",
   "language": "python",
   "name": "python3"
  },
  "language_info": {
   "codemirror_mode": {
    "name": "ipython",
    "version": 3
   },
   "file_extension": ".py",
   "mimetype": "text/x-python",
   "name": "python",
   "nbconvert_exporter": "python",
   "pygments_lexer": "ipython3",
   "version": "3.6.0"
  }
 },
 "nbformat": 4,
 "nbformat_minor": 0
}
